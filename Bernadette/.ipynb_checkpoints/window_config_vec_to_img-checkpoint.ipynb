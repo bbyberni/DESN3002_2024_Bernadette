{
 "cells": [
  {
   "cell_type": "code",
   "execution_count": 16,
   "metadata": {},
   "outputs": [],
   "source": [
    "import pandas as pd\n",
    "\n",
    "# prerequisites\n",
    "import torch\n",
    "th = torch\n",
    "import torch.nn as nn\n",
    "import torch.nn.functional as F\n",
    "import torch.optim as optim\n",
    "\n",
    "import matplotlib.pyplot as plt\n",
    "from mpl_toolkits.mplot3d import Axes3D\n",
    "plt.rcParams['font.family'] = 'serif'\n",
    "import numpy as np\n",
    "\n",
    "\n",
    "from torch.utils.data import TensorDataset, DataLoader\n",
    "from sklearn.model_selection import train_test_split\n",
    "from sklearn.preprocessing import MinMaxScaler\n",
    "\n",
    "to_tensor = lambda x: torch.tensor(x).to(torch.float32)"
   ]
  },
  {
   "cell_type": "code",
   "execution_count": 29,
   "metadata": {},
   "outputs": [],
   "source": [
    "import torch\n",
    "from torch.utils.data import Dataset, DataLoader, random_split\n",
    "\n",
    "class CustomDataset(Dataset):\n",
    "    def __init__(self, X, y):\n",
    "        # Generate random data for X with shape (N, 20)\n",
    "        self.X = X\n",
    "        # Generate random data for y with shape (N, 18, 10)\n",
    "        self.y = y\n",
    "\n",
    "    def __len__(self):\n",
    "        return len(self.X)\n",
    "\n",
    "    def __getitem__(self, idx):\n",
    "        return self.X[idx], self.y[idx]\n",
    "\n"
   ]
  },
  {
   "cell_type": "markdown",
   "metadata": {},
   "source": [
    "# TODO: DATASET IMPORT"
   ]
  },
  {
   "cell_type": "code",
   "execution_count": 30,
   "metadata": {},
   "outputs": [],
   "source": [
    "X = th.randint(2, size=(500, 20)).to(th.float)\n",
    "y = th.rand(500,18,10)\n",
    "# Instantiate the dataset\n",
    "dataset = CustomDataset(X,y)"
   ]
  },
  {
   "cell_type": "code",
   "execution_count": 31,
   "metadata": {},
   "outputs": [
    {
     "name": "stdout",
     "output_type": "stream",
     "text": [
      "Training dataset size: 450\n",
      "Test dataset size: 50\n"
     ]
    }
   ],
   "source": [
    "# Define the split sizes\n",
    "eval_percent = 0.10\n",
    "num_eval = int(len(dataset) * eval_percent)\n",
    "num_train = len(dataset) - num_eval\n",
    "\n",
    "# Randomly split the dataset into training and evaluation datasets\n",
    "train_dataset, test_dataset = random_split(dataset, [num_train, num_eval])\n",
    "\n",
    "print(f\"Training dataset size: {len(train_dataset)}\")\n",
    "print(f\"Test dataset size: {len(test_dataset)}\")\n",
    "\n",
    "# Set batch size\n",
    "batch_size = 50\n",
    "\n",
    "# Create DataLoader for the training dataset\n",
    "train_loader = DataLoader(train_dataset, batch_size=batch_size, shuffle=True)\n",
    "\n",
    "# Create DataLoader for the evaluation dataset\n",
    "test_loader = DataLoader(test_dataset, batch_size=batch_size, shuffle=False)"
   ]
  },
  {
   "cell_type": "code",
   "execution_count": 32,
   "metadata": {},
   "outputs": [],
   "source": [
    "import os\n",
    "import torch\n",
    "\n",
    "def save_models(models, folder_path):\n",
    "    # Create the directory if it doesn't exist\n",
    "    if not os.path.exists(folder_path):\n",
    "        os.makedirs(folder_path)\n",
    "\n",
    "    # Save each model\n",
    "    for model in models:\n",
    "        model_name = type(model).__name__  # Get the class name of the model\n",
    "        file_path = os.path.join(folder_path, f\"{model_name}.pt\")\n",
    "        torch.save(model.state_dict(), file_path)\n",
    "\n",
    "    print(\"Models saved successfully.\")\n",
    "\n",
    "# Example usage:\n",
    "# save_models([model1, model2], \"/path/to/folder\")\n",
    "\n",
    "def load_models(model_objects, folder_path):\n",
    "    # Load the state dicts for each model\n",
    "    for model in model_objects:\n",
    "        model_name = type(model).__name__  # Get the class name of the model\n",
    "        file_path = os.path.join(folder_path, f\"{model_name}.pt\")\n",
    "        model.load_state_dict(torch.load(file_path))\n",
    "\n",
    "    print(\"Models loaded successfully.\")\n",
    "\n",
    "# Example usage:\n",
    "# load_models([model1, model2], \"/path/to/folder\")\n",
    "\n"
   ]
  },
  {
   "cell_type": "code",
   "execution_count": 42,
   "metadata": {},
   "outputs": [],
   "source": [
    "import torch\n",
    "import torch.nn as nn\n",
    "import torch.nn.functional as F\n",
    "\n",
    "class CustomConvNet(nn.Module):\n",
    "    def __init__(self, num_1d_layers=3, num_2d_layers=2):# num_channels=180):\n",
    "        super(CustomConvNet, self).__init__()\n",
    "        \n",
    "        # Define initial parameters for the 1D conv layers\n",
    "        initial_channels = 16  # Initial number of channels\n",
    "        self.shape_1d = 20\n",
    "        self.shape_2d = (18, 10)\n",
    "        \n",
    "        # 1D Convolutional Layers\n",
    "        self.conv1d_layers = nn.ModuleList()\n",
    "        in_channels = 1\n",
    "        for i in range(num_1d_layers - 1):\n",
    "            out_channels = initial_channels * (2 ** i)\n",
    "            self.conv1d_layers.append(nn.Sequential(\n",
    "                nn.Conv1d(in_channels, out_channels, kernel_size=3, stride=1, padding=1),\n",
    "                nn.BatchNorm1d(out_channels),\n",
    "                nn.ReLU(inplace=True),\n",
    "                nn.Dropout(0.1)  # Regularization\n",
    "            ))\n",
    "            in_channels = out_channels\n",
    "        \n",
    "        # Last 1D convolution to adjust the channel size exactly to num_channels\n",
    "        self.conv1d_layers.append(nn.Conv1d(in_channels, self.shape_2d[0] * self.shape_2d[1], \n",
    "                                            kernel_size=3, stride=1, padding=1))\n",
    "        #print(num_channels)\n",
    "        \n",
    "        # 2D Convolutional Layers\n",
    "        self.conv2d_layers = nn.ModuleList()\n",
    "        in_channels = self.shape_1d\n",
    "        for i in range(num_2d_layers):\n",
    "            out_channels = 32 if i < num_2d_layers - 1 else 1  # Final output channel set to 1\n",
    "            self.conv2d_layers.append(nn.Sequential(\n",
    "                nn.Conv2d(in_channels, out_channels, kernel_size=(3, 3), stride=1, padding=1),\n",
    "                nn.BatchNorm2d(out_channels),\n",
    "                nn.ReLU(inplace=True),\n",
    "                nn.Dropout(0.2)  # Regularization\n",
    "            ))\n",
    "            in_channels = out_channels\n",
    "\n",
    "    def forward(self, x):\n",
    "        x = x.unsqueeze(1)  # Add channel dimension (N, 1, L) where L is the sequence length\n",
    "\n",
    "        # Apply 1D convolutions\n",
    "        for layer in self.conv1d_layers:\n",
    "            x = layer(x)\n",
    "\n",
    "        # Reshape to 2D (N, C, 18, 10)\n",
    "        x = x.view(x.size(0), -1, 18, 10)  # -1 here will automatically adjust to num_channels\n",
    "        \n",
    "        # Apply 2D convolutions\n",
    "        for layer in self.conv2d_layers:\n",
    "            x = layer(x)\n",
    "\n",
    "        return x.squeeze(1)\n"
   ]
  },
  {
   "cell_type": "code",
   "execution_count": 43,
   "metadata": {},
   "outputs": [],
   "source": [
    "\n",
    "def train_model(model, optimizer, train_loader, losses, epochs=1000):\n",
    "    model.train()\n",
    "    losses_ = losses.setdefault('train',{})\n",
    "    \n",
    "    for epoch in range(epochs):\n",
    "        loss, metric = 0., 0.\n",
    "        for iter, (inputs, targets) in enumerate(train_loader):\n",
    "            \n",
    "            optimizer.zero_grad()\n",
    "            outputs = model(inputs)\n",
    "            loss = train_loss_func(outputs, targets)\n",
    "            loss.backward()\n",
    "            optimizer.step()\n",
    "\n",
    "            metric = test_eval_func(outputs.detach(), targets)\n",
    "\n",
    "            loss += loss.detach()\n",
    "            metric += metric.detach()\n",
    "            \n",
    "        loss /= (iter + 1)\n",
    "        metric /= (iter + 1)\n",
    "        \n",
    "        losses_.setdefault('loss', []).append(loss.detach())\n",
    "        losses_.setdefault('metric', []).append(metric.detach())\n",
    "        losses_.setdefault('epoch', []).append(epoch)\n",
    "\n",
    "        if (epoch+1) % 5 == 0:\n",
    "            print(f'TRAIN | Epoch {epoch+1}, Loss: {loss.item():.4f}, Metric: {metric.item():.4f}')\n",
    "            test(model, epoch, losses)\n",
    "\n",
    "def test(model, epoch, losses):\n",
    "    _ = model.eval()\n",
    "    losses_ = losses.setdefault('test',{})\n",
    "    \n",
    "    with torch.no_grad():\n",
    "        loss, metric = 0., 0.\n",
    "        for iter, (inputs, targets) in enumerate(test_loader):\n",
    "            outputs = model(inputs)\n",
    "            loss = train_loss_func(outputs.detach(), targets.detach()).detach()\n",
    "            metric = test_eval_func(outputs.detach(), targets.detach()).detach()\n",
    "            \n",
    "        loss /= (iter + 1)\n",
    "        metric /= (iter + 1)\n",
    "        losses_.setdefault('loss', []).append(loss)\n",
    "        losses_.setdefault('metric', []).append(metric)\n",
    "        losses_.setdefault('epoch', []).append(epoch)\n",
    "            \n",
    "    print(f'... TEST | Epoch {epoch+1}, Loss: {loss.item():.4f}, Metric: {metric.item():.4f}')\n"
   ]
  },
  {
   "cell_type": "code",
   "execution_count": 44,
   "metadata": {},
   "outputs": [],
   "source": [
    "class MAPELoss(torch.nn.Module):\n",
    "    def __init__(self):\n",
    "        super(MAPELoss, self).__init__()\n",
    "\n",
    "    def forward(self, y_true, y_pred):\n",
    "        epsilon = 1e-8\n",
    "        percentage_error = torch.abs((y_true - y_pred) / (torch.abs(y_true) + epsilon))\n",
    "        mape = torch.mean(percentage_error) * 100.0\n",
    "        return mape\n",
    "\n",
    "train_loss_func = nn.MSELoss()\n",
    "test_eval_func = MAPELoss()"
   ]
  },
  {
   "cell_type": "code",
   "execution_count": 45,
   "metadata": {},
   "outputs": [],
   "source": [
    "\n",
    "# Create the model\n",
    "model = CustomConvNet(num_1d_layers=3, num_2d_layers=2)\n",
    "\n",
    "if False: # test the model\n",
    "    #print(model)\n",
    "    # Creating a dummy input tensor of shape (N, L), where L=20\n",
    "    input_tensor = torch.randn(5, 20)  # 5 examples, each 1 x 20\n",
    "    # Forward pass\n",
    "    output = model(input_tensor)\n",
    "    print(\"Output shape:\", output.shape)\n"
   ]
  },
  {
   "cell_type": "code",
   "execution_count": 46,
   "metadata": {},
   "outputs": [
    {
     "name": "stdout",
     "output_type": "stream",
     "text": [
      "TRAIN | Epoch 5, Loss: 0.0383, Metric: 376108416.0000\n",
      "... TEST | Epoch 5, Loss: 0.1364, Metric: 814548608.0000\n",
      "TRAIN | Epoch 10, Loss: 0.0280, Metric: 186502672.0000\n",
      "... TEST | Epoch 10, Loss: 0.1237, Metric: 808205248.0000\n",
      "TRAIN | Epoch 15, Loss: 0.0187, Metric: 10.8779\n",
      "... TEST | Epoch 15, Loss: 0.0842, Metric: 48.9720\n",
      "TRAIN | Epoch 20, Loss: 0.0187, Metric: 11.2362\n",
      "... TEST | Epoch 20, Loss: 0.0835, Metric: 50.1076\n",
      "TRAIN | Epoch 25, Loss: 0.0187, Metric: 11.1956\n",
      "... TEST | Epoch 25, Loss: 0.0834, Metric: 49.8896\n",
      "TRAIN | Epoch 30, Loss: 0.0186, Metric: 11.1378\n",
      "... TEST | Epoch 30, Loss: 0.0834, Metric: 49.8627\n",
      "TRAIN | Epoch 35, Loss: 0.0185, Metric: 11.0836\n",
      "... TEST | Epoch 35, Loss: 0.0834, Metric: 49.8231\n",
      "TRAIN | Epoch 40, Loss: 0.0183, Metric: 11.1202\n",
      "... TEST | Epoch 40, Loss: 0.0834, Metric: 50.0494\n",
      "TRAIN | Epoch 45, Loss: 0.0184, Metric: 11.0635\n",
      "... TEST | Epoch 45, Loss: 0.0834, Metric: 49.7300\n",
      "TRAIN | Epoch 50, Loss: 0.0185, Metric: 11.1098\n",
      "... TEST | Epoch 50, Loss: 0.0834, Metric: 49.9558\n"
     ]
    },
    {
     "ename": "KeyboardInterrupt",
     "evalue": "",
     "output_type": "error",
     "traceback": [
      "\u001b[0;31m---------------------------------------------------------------------------\u001b[0m",
      "\u001b[0;31mKeyboardInterrupt\u001b[0m                         Traceback (most recent call last)",
      "\u001b[0;32m/var/folders/0k/sjz1x0_n7_12_0wk4kxdkw9w0000gs/T/ipykernel_13241/3286463784.py\u001b[0m in \u001b[0;36m<module>\u001b[0;34m\u001b[0m\n\u001b[1;32m      5\u001b[0m \u001b[0;34m\u001b[0m\u001b[0m\n\u001b[1;32m      6\u001b[0m \u001b[0mlosses\u001b[0m \u001b[0;34m=\u001b[0m \u001b[0;34m{\u001b[0m\u001b[0;34m}\u001b[0m\u001b[0;34m\u001b[0m\u001b[0;34m\u001b[0m\u001b[0m\n\u001b[0;32m----> 7\u001b[0;31m \u001b[0mtrain_model\u001b[0m\u001b[0;34m(\u001b[0m\u001b[0mmodel\u001b[0m\u001b[0;34m,\u001b[0m \u001b[0moptimizer\u001b[0m\u001b[0;34m,\u001b[0m \u001b[0mtrain_loader\u001b[0m\u001b[0;34m,\u001b[0m \u001b[0mlosses\u001b[0m\u001b[0;34m,\u001b[0m  \u001b[0mepochs\u001b[0m\u001b[0;34m=\u001b[0m\u001b[0;36m100\u001b[0m\u001b[0;34m)\u001b[0m\u001b[0;34m\u001b[0m\u001b[0;34m\u001b[0m\u001b[0m\n\u001b[0m",
      "\u001b[0;32m/var/folders/0k/sjz1x0_n7_12_0wk4kxdkw9w0000gs/T/ipykernel_13241/648457649.py\u001b[0m in \u001b[0;36mtrain_model\u001b[0;34m(model, optimizer, train_loader, losses, epochs)\u001b[0m\n\u001b[1;32m      8\u001b[0m \u001b[0;34m\u001b[0m\u001b[0m\n\u001b[1;32m      9\u001b[0m             \u001b[0moptimizer\u001b[0m\u001b[0;34m.\u001b[0m\u001b[0mzero_grad\u001b[0m\u001b[0;34m(\u001b[0m\u001b[0;34m)\u001b[0m\u001b[0;34m\u001b[0m\u001b[0;34m\u001b[0m\u001b[0m\n\u001b[0;32m---> 10\u001b[0;31m             \u001b[0moutputs\u001b[0m \u001b[0;34m=\u001b[0m \u001b[0mmodel\u001b[0m\u001b[0;34m(\u001b[0m\u001b[0minputs\u001b[0m\u001b[0;34m)\u001b[0m\u001b[0;34m\u001b[0m\u001b[0;34m\u001b[0m\u001b[0m\n\u001b[0m\u001b[1;32m     11\u001b[0m             \u001b[0mloss\u001b[0m \u001b[0;34m=\u001b[0m \u001b[0mtrain_loss_func\u001b[0m\u001b[0;34m(\u001b[0m\u001b[0moutputs\u001b[0m\u001b[0;34m,\u001b[0m \u001b[0mtargets\u001b[0m\u001b[0;34m)\u001b[0m\u001b[0;34m\u001b[0m\u001b[0;34m\u001b[0m\u001b[0m\n\u001b[1;32m     12\u001b[0m             \u001b[0mloss\u001b[0m\u001b[0;34m.\u001b[0m\u001b[0mbackward\u001b[0m\u001b[0;34m(\u001b[0m\u001b[0;34m)\u001b[0m\u001b[0;34m\u001b[0m\u001b[0;34m\u001b[0m\u001b[0m\n",
      "\u001b[0;32m~/opt/anaconda3/envs/kmmt_new_llm/lib/python3.8/site-packages/torch/nn/modules/module.py\u001b[0m in \u001b[0;36m_call_impl\u001b[0;34m(self, *args, **kwargs)\u001b[0m\n\u001b[1;32m   1499\u001b[0m                 \u001b[0;32mor\u001b[0m \u001b[0m_global_backward_pre_hooks\u001b[0m \u001b[0;32mor\u001b[0m \u001b[0m_global_backward_hooks\u001b[0m\u001b[0;34m\u001b[0m\u001b[0;34m\u001b[0m\u001b[0m\n\u001b[1;32m   1500\u001b[0m                 or _global_forward_hooks or _global_forward_pre_hooks):\n\u001b[0;32m-> 1501\u001b[0;31m             \u001b[0;32mreturn\u001b[0m \u001b[0mforward_call\u001b[0m\u001b[0;34m(\u001b[0m\u001b[0;34m*\u001b[0m\u001b[0margs\u001b[0m\u001b[0;34m,\u001b[0m \u001b[0;34m**\u001b[0m\u001b[0mkwargs\u001b[0m\u001b[0;34m)\u001b[0m\u001b[0;34m\u001b[0m\u001b[0;34m\u001b[0m\u001b[0m\n\u001b[0m\u001b[1;32m   1502\u001b[0m         \u001b[0;31m# Do not call functions when jit is used\u001b[0m\u001b[0;34m\u001b[0m\u001b[0;34m\u001b[0m\u001b[0;34m\u001b[0m\u001b[0m\n\u001b[1;32m   1503\u001b[0m         \u001b[0mfull_backward_hooks\u001b[0m\u001b[0;34m,\u001b[0m \u001b[0mnon_full_backward_hooks\u001b[0m \u001b[0;34m=\u001b[0m \u001b[0;34m[\u001b[0m\u001b[0;34m]\u001b[0m\u001b[0;34m,\u001b[0m \u001b[0;34m[\u001b[0m\u001b[0;34m]\u001b[0m\u001b[0;34m\u001b[0m\u001b[0;34m\u001b[0m\u001b[0m\n",
      "\u001b[0;32m/var/folders/0k/sjz1x0_n7_12_0wk4kxdkw9w0000gs/T/ipykernel_13241/4206183901.py\u001b[0m in \u001b[0;36mforward\u001b[0;34m(self, x)\u001b[0m\n\u001b[1;32m     55\u001b[0m         \u001b[0;31m# Apply 2D convolutions\u001b[0m\u001b[0;34m\u001b[0m\u001b[0;34m\u001b[0m\u001b[0;34m\u001b[0m\u001b[0m\n\u001b[1;32m     56\u001b[0m         \u001b[0;32mfor\u001b[0m \u001b[0mlayer\u001b[0m \u001b[0;32min\u001b[0m \u001b[0mself\u001b[0m\u001b[0;34m.\u001b[0m\u001b[0mconv2d_layers\u001b[0m\u001b[0;34m:\u001b[0m\u001b[0;34m\u001b[0m\u001b[0;34m\u001b[0m\u001b[0m\n\u001b[0;32m---> 57\u001b[0;31m             \u001b[0mx\u001b[0m \u001b[0;34m=\u001b[0m \u001b[0mlayer\u001b[0m\u001b[0;34m(\u001b[0m\u001b[0mx\u001b[0m\u001b[0;34m)\u001b[0m\u001b[0;34m\u001b[0m\u001b[0;34m\u001b[0m\u001b[0m\n\u001b[0m\u001b[1;32m     58\u001b[0m \u001b[0;34m\u001b[0m\u001b[0m\n\u001b[1;32m     59\u001b[0m         \u001b[0;32mreturn\u001b[0m \u001b[0mx\u001b[0m\u001b[0;34m.\u001b[0m\u001b[0msqueeze\u001b[0m\u001b[0;34m(\u001b[0m\u001b[0;36m1\u001b[0m\u001b[0;34m)\u001b[0m\u001b[0;34m\u001b[0m\u001b[0;34m\u001b[0m\u001b[0m\n",
      "\u001b[0;32m~/opt/anaconda3/envs/kmmt_new_llm/lib/python3.8/site-packages/torch/nn/modules/module.py\u001b[0m in \u001b[0;36m_call_impl\u001b[0;34m(self, *args, **kwargs)\u001b[0m\n\u001b[1;32m   1499\u001b[0m                 \u001b[0;32mor\u001b[0m \u001b[0m_global_backward_pre_hooks\u001b[0m \u001b[0;32mor\u001b[0m \u001b[0m_global_backward_hooks\u001b[0m\u001b[0;34m\u001b[0m\u001b[0;34m\u001b[0m\u001b[0m\n\u001b[1;32m   1500\u001b[0m                 or _global_forward_hooks or _global_forward_pre_hooks):\n\u001b[0;32m-> 1501\u001b[0;31m             \u001b[0;32mreturn\u001b[0m \u001b[0mforward_call\u001b[0m\u001b[0;34m(\u001b[0m\u001b[0;34m*\u001b[0m\u001b[0margs\u001b[0m\u001b[0;34m,\u001b[0m \u001b[0;34m**\u001b[0m\u001b[0mkwargs\u001b[0m\u001b[0;34m)\u001b[0m\u001b[0;34m\u001b[0m\u001b[0;34m\u001b[0m\u001b[0m\n\u001b[0m\u001b[1;32m   1502\u001b[0m         \u001b[0;31m# Do not call functions when jit is used\u001b[0m\u001b[0;34m\u001b[0m\u001b[0;34m\u001b[0m\u001b[0;34m\u001b[0m\u001b[0m\n\u001b[1;32m   1503\u001b[0m         \u001b[0mfull_backward_hooks\u001b[0m\u001b[0;34m,\u001b[0m \u001b[0mnon_full_backward_hooks\u001b[0m \u001b[0;34m=\u001b[0m \u001b[0;34m[\u001b[0m\u001b[0;34m]\u001b[0m\u001b[0;34m,\u001b[0m \u001b[0;34m[\u001b[0m\u001b[0;34m]\u001b[0m\u001b[0;34m\u001b[0m\u001b[0;34m\u001b[0m\u001b[0m\n",
      "\u001b[0;32m~/opt/anaconda3/envs/kmmt_new_llm/lib/python3.8/site-packages/torch/nn/modules/container.py\u001b[0m in \u001b[0;36mforward\u001b[0;34m(self, input)\u001b[0m\n\u001b[1;32m    215\u001b[0m     \u001b[0;32mdef\u001b[0m \u001b[0mforward\u001b[0m\u001b[0;34m(\u001b[0m\u001b[0mself\u001b[0m\u001b[0;34m,\u001b[0m \u001b[0minput\u001b[0m\u001b[0;34m)\u001b[0m\u001b[0;34m:\u001b[0m\u001b[0;34m\u001b[0m\u001b[0;34m\u001b[0m\u001b[0m\n\u001b[1;32m    216\u001b[0m         \u001b[0;32mfor\u001b[0m \u001b[0mmodule\u001b[0m \u001b[0;32min\u001b[0m \u001b[0mself\u001b[0m\u001b[0;34m:\u001b[0m\u001b[0;34m\u001b[0m\u001b[0;34m\u001b[0m\u001b[0m\n\u001b[0;32m--> 217\u001b[0;31m             \u001b[0minput\u001b[0m \u001b[0;34m=\u001b[0m \u001b[0mmodule\u001b[0m\u001b[0;34m(\u001b[0m\u001b[0minput\u001b[0m\u001b[0;34m)\u001b[0m\u001b[0;34m\u001b[0m\u001b[0;34m\u001b[0m\u001b[0m\n\u001b[0m\u001b[1;32m    218\u001b[0m         \u001b[0;32mreturn\u001b[0m \u001b[0minput\u001b[0m\u001b[0;34m\u001b[0m\u001b[0;34m\u001b[0m\u001b[0m\n\u001b[1;32m    219\u001b[0m \u001b[0;34m\u001b[0m\u001b[0m\n",
      "\u001b[0;32m~/opt/anaconda3/envs/kmmt_new_llm/lib/python3.8/site-packages/torch/nn/modules/module.py\u001b[0m in \u001b[0;36m_call_impl\u001b[0;34m(self, *args, **kwargs)\u001b[0m\n\u001b[1;32m   1499\u001b[0m                 \u001b[0;32mor\u001b[0m \u001b[0m_global_backward_pre_hooks\u001b[0m \u001b[0;32mor\u001b[0m \u001b[0m_global_backward_hooks\u001b[0m\u001b[0;34m\u001b[0m\u001b[0;34m\u001b[0m\u001b[0m\n\u001b[1;32m   1500\u001b[0m                 or _global_forward_hooks or _global_forward_pre_hooks):\n\u001b[0;32m-> 1501\u001b[0;31m             \u001b[0;32mreturn\u001b[0m \u001b[0mforward_call\u001b[0m\u001b[0;34m(\u001b[0m\u001b[0;34m*\u001b[0m\u001b[0margs\u001b[0m\u001b[0;34m,\u001b[0m \u001b[0;34m**\u001b[0m\u001b[0mkwargs\u001b[0m\u001b[0;34m)\u001b[0m\u001b[0;34m\u001b[0m\u001b[0;34m\u001b[0m\u001b[0m\n\u001b[0m\u001b[1;32m   1502\u001b[0m         \u001b[0;31m# Do not call functions when jit is used\u001b[0m\u001b[0;34m\u001b[0m\u001b[0;34m\u001b[0m\u001b[0;34m\u001b[0m\u001b[0m\n\u001b[1;32m   1503\u001b[0m         \u001b[0mfull_backward_hooks\u001b[0m\u001b[0;34m,\u001b[0m \u001b[0mnon_full_backward_hooks\u001b[0m \u001b[0;34m=\u001b[0m \u001b[0;34m[\u001b[0m\u001b[0;34m]\u001b[0m\u001b[0;34m,\u001b[0m \u001b[0;34m[\u001b[0m\u001b[0;34m]\u001b[0m\u001b[0;34m\u001b[0m\u001b[0;34m\u001b[0m\u001b[0m\n",
      "\u001b[0;32m~/opt/anaconda3/envs/kmmt_new_llm/lib/python3.8/site-packages/torch/nn/modules/conv.py\u001b[0m in \u001b[0;36mforward\u001b[0;34m(self, input)\u001b[0m\n\u001b[1;32m    461\u001b[0m \u001b[0;34m\u001b[0m\u001b[0m\n\u001b[1;32m    462\u001b[0m     \u001b[0;32mdef\u001b[0m \u001b[0mforward\u001b[0m\u001b[0;34m(\u001b[0m\u001b[0mself\u001b[0m\u001b[0;34m,\u001b[0m \u001b[0minput\u001b[0m\u001b[0;34m:\u001b[0m \u001b[0mTensor\u001b[0m\u001b[0;34m)\u001b[0m \u001b[0;34m->\u001b[0m \u001b[0mTensor\u001b[0m\u001b[0;34m:\u001b[0m\u001b[0;34m\u001b[0m\u001b[0;34m\u001b[0m\u001b[0m\n\u001b[0;32m--> 463\u001b[0;31m         \u001b[0;32mreturn\u001b[0m \u001b[0mself\u001b[0m\u001b[0;34m.\u001b[0m\u001b[0m_conv_forward\u001b[0m\u001b[0;34m(\u001b[0m\u001b[0minput\u001b[0m\u001b[0;34m,\u001b[0m \u001b[0mself\u001b[0m\u001b[0;34m.\u001b[0m\u001b[0mweight\u001b[0m\u001b[0;34m,\u001b[0m \u001b[0mself\u001b[0m\u001b[0;34m.\u001b[0m\u001b[0mbias\u001b[0m\u001b[0;34m)\u001b[0m\u001b[0;34m\u001b[0m\u001b[0;34m\u001b[0m\u001b[0m\n\u001b[0m\u001b[1;32m    464\u001b[0m \u001b[0;34m\u001b[0m\u001b[0m\n\u001b[1;32m    465\u001b[0m \u001b[0;32mclass\u001b[0m \u001b[0mConv3d\u001b[0m\u001b[0;34m(\u001b[0m\u001b[0m_ConvNd\u001b[0m\u001b[0;34m)\u001b[0m\u001b[0;34m:\u001b[0m\u001b[0;34m\u001b[0m\u001b[0;34m\u001b[0m\u001b[0m\n",
      "\u001b[0;32m~/opt/anaconda3/envs/kmmt_new_llm/lib/python3.8/site-packages/torch/nn/modules/conv.py\u001b[0m in \u001b[0;36m_conv_forward\u001b[0;34m(self, input, weight, bias)\u001b[0m\n\u001b[1;32m    457\u001b[0m                             \u001b[0mweight\u001b[0m\u001b[0;34m,\u001b[0m \u001b[0mbias\u001b[0m\u001b[0;34m,\u001b[0m \u001b[0mself\u001b[0m\u001b[0;34m.\u001b[0m\u001b[0mstride\u001b[0m\u001b[0;34m,\u001b[0m\u001b[0;34m\u001b[0m\u001b[0;34m\u001b[0m\u001b[0m\n\u001b[1;32m    458\u001b[0m                             _pair(0), self.dilation, self.groups)\n\u001b[0;32m--> 459\u001b[0;31m         return F.conv2d(input, weight, bias, self.stride,\n\u001b[0m\u001b[1;32m    460\u001b[0m                         self.padding, self.dilation, self.groups)\n\u001b[1;32m    461\u001b[0m \u001b[0;34m\u001b[0m\u001b[0m\n",
      "\u001b[0;31mKeyboardInterrupt\u001b[0m: "
     ]
    }
   ],
   "source": [
    "# Train model\n",
    "\n",
    "learning_rate = 1e-3\n",
    "optimizer = torch.optim.Adam(model.parameters(), lr=learning_rate)\n",
    "\n",
    "losses = {}\n",
    "train_model(model, optimizer, train_loader, losses,  epochs=100)"
   ]
  },
  {
   "cell_type": "markdown",
   "metadata": {},
   "source": [
    "# Save models"
   ]
  },
  {
   "cell_type": "code",
   "execution_count": null,
   "metadata": {},
   "outputs": [],
   "source": [
    "\n",
    "\n",
    "# Example usage:\n",
    "# load_models([model1, model2], \"/path/to/folder\")"
   ]
  },
  {
   "cell_type": "code",
   "execution_count": null,
   "metadata": {},
   "outputs": [],
   "source": []
  },
  {
   "cell_type": "code",
   "execution_count": 108,
   "metadata": {},
   "outputs": [
    {
     "data": {
      "image/png": "[encoded data removed]",
      "text/plain": [
       "<Figure size 720x288 with 1 Axes>"
      ]
     },
     "metadata": {
      "needs_background": "light"
     },
     "output_type": "display_data"
    }
   ],
   "source": [
    "import matplotlib.pyplot as plt\n",
    "\n",
    "# Plotting the loss\n",
    "fig, ax = plt.subplots(figsize=(10,4))\n",
    "key='loss'\n",
    "ax.plot(losses['train']['epoch'], losses['train'][key], label='Train Loss', c='blue')\n",
    "ax.plot(losses['test']['epoch'], losses['test'][key], label='Test Loss', c='red')\n",
    "\n",
    "# Adding labels and title\n",
    "ax.set_xlabel('Epochs')\n",
    "ax.set_ylabel('Loss')\n",
    "ax.set_title('Training and Test Loss')\n",
    "\n",
    "# Adding legend\n",
    "ax.legend()\n",
    "\n",
    "# Displaying the plot\n",
    "plt.show()"
   ]
  },
  {
   "cell_type": "code",
   "execution_count": 248,
   "metadata": {},
   "outputs": [],
   "source": []
  },
  {
   "cell_type": "code",
   "execution_count": null,
   "metadata": {},
   "outputs": [],
   "source": [
    "import numpy as np\n",
    "import matplotlib.pyplot as plt\n",
    "\n",
    "def sort_and_show_data(data, objective):\n",
    "    # Sort data based on objective vector\n",
    "    sorted_indices = np.argsort(objective)[::-1]\n",
    "    sorted_data = data[sorted_indices][:10]\n",
    "    sorted_objective = objective[sorted_indices][:10]\n",
    "\n",
    "    # Plot sorted data\n",
    "    fig, (ax1, ax2) = plt.subplots(1, 2, figsize=(12, 6))\n",
    "\n",
    "    # Plot sorted data as image with flipped orientation\n",
    "    ax1.imshow(sorted_data[::-1], cmap='binary', aspect='auto', extent=[0, 20, 0, len(sorted_data)])\n",
    "    \n",
    "    # Set labels and ticks for ax1\n",
    "    ax1.set_xticks([])\n",
    "    ax1.set_yticks(np.arange(0, 11, 2))\n",
    "    ax1.set_yticklabels(np.arange(10, -1, -2))\n",
    "    ax1.set_ylabel('Sample Index')\n",
    "    ax1.set_xlabel('Feature Index')\n",
    "    ax1.grid(axis='y', linestyle='--')\n",
    "\n",
    "    print(sorted_objective)\n",
    "    # Plot circles representing the objective vector with flipped orientation\n",
    "    ax2.set_xlim(0, 10)\n",
    "    ax2.set_ylim(0, 10)\n",
    "    for i, val in enumerate(sorted_objective):\n",
    "        ax2.add_patch(plt.Circle((5, i + 0.5), val * 1, color='red', fill=False))\n",
    "\n",
    "    # Set labels and ticks for ax2\n",
    "    ax2.set_xticks(np.arange(1, 11))\n",
    "    ax2.set_yticks([])\n",
    "    ax2.set_xlabel('Sorted Objective Value')\n",
    "    ax2.set_aspect('equal')\n",
    "\n",
    "    plt.show()\n",
    "\n",
    "# Example usage:\n",
    "# Assuming you have data of shape (n, 20) and objective vector of shape (n, 1)\n",
    "n = 100  # Number of samples\n",
    "data = np.random.randint(0, 2, size=(n, 20))  # Example binary data\n",
    "objective = np.random.rand(n)  # Example objective vector\n",
    "sort_and_show_data(data, objective)\n"
   ]
  }
 ],
 "metadata": {
  "kernelspec": {
   "display_name": "Python 3 (ipykernel)",
   "language": "python",
   "name": "python3"
  },
  "language_info": {
   "codemirror_mode": {
    "name": "ipython",
    "version": 3
   },
   "file_extension": ".py",
   "mimetype": "text/x-python",
   "name": "python",
   "nbconvert_exporter": "python",
   "pygments_lexer": "ipython3",
   "version": "3.8.10"
  }
 },
 "nbformat": 4,
 "nbformat_minor": 4
}
