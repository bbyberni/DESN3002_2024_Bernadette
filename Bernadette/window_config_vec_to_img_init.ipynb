{
 "cells": [
  {
   "cell_type": "code",
   "execution_count": 1,
   "metadata": {},
   "outputs": [
    {
     "name": "stderr",
     "output_type": "stream",
     "text": [
      "C:\\Users\\berni\\anaconda3\\envs\\hku_202324S2\\lib\\site-packages\\numpy\\_distributor_init.py:30: UserWarning: loaded more than 1 DLL from .libs:\n",
      "C:\\Users\\berni\\anaconda3\\envs\\hku_202324S2\\lib\\site-packages\\numpy\\.libs\\libopenblas.FB5AE2TYXYH2IJRDKGDGQ3XBKLKTF43H.gfortran-win_amd64.dll\n",
      "C:\\Users\\berni\\anaconda3\\envs\\hku_202324S2\\lib\\site-packages\\numpy\\.libs\\libopenblas64__v0.3.21-gcc_10_3_0.dll\n",
      "  warnings.warn(\"loaded more than 1 DLL from .libs:\"\n"
     ]
    }
   ],
   "source": [
    "import pandas as pd\n",
    "\n",
    "# prerequisites\n",
    "import torch\n",
    "th = torch\n",
    "import torch.nn as nn\n",
    "import torch.nn.functional as F\n",
    "import torch.optim as optim\n",
    "\n",
    "import matplotlib.pyplot as plt\n",
    "from mpl_toolkits.mplot3d import Axes3D\n",
    "plt.rcParams['font.family'] = 'serif'\n",
    "import numpy as np\n",
    "\n",
    "\n",
    "from torch.utils.data import TensorDataset, DataLoader\n",
    "from sklearn.model_selection import train_test_split\n",
    "from sklearn.preprocessing import MinMaxScaler\n",
    "\n",
    "to_tensor = lambda x: torch.tensor(x).to(torch.float32)"
   ]
  },
  {
   "cell_type": "code",
   "execution_count": 2,
   "metadata": {},
   "outputs": [],
   "source": [
    "import torch\n",
    "from torch.utils.data import Dataset, DataLoader, random_split\n",
    "\n",
    "class CustomDataset(Dataset):\n",
    "    def __init__(self, X, y):\n",
    "        # Generate random data for X with shape (N, 20)\n",
    "        self.X = X\n",
    "        # Generate random data for y with shape (N, 18, 10)\n",
    "        self.y = y\n",
    "\n",
    "    def __len__(self):\n",
    "        return len(self.X)\n",
    "\n",
    "    def __getitem__(self, idx):\n",
    "        return self.X[idx], self.y[idx]\n",
    "\n"
   ]
  },
  {
   "cell_type": "markdown",
   "metadata": {},
   "source": [
    "# TODO: DATASET IMPORT"
   ]
  },
  {
   "cell_type": "code",
   "execution_count": 3,
   "metadata": {},
   "outputs": [],
   "source": [
    "X = th.randint(2, size=(500, 20)).to(th.float)\n",
    "y = th.rand(500,18,10)\n",
    "# Instantiate the dataset\n",
    "dataset = CustomDataset(X,y)"
   ]
  },
  {
   "cell_type": "code",
   "execution_count": 4,
   "metadata": {},
   "outputs": [
    {
     "name": "stdout",
     "output_type": "stream",
     "text": [
      "Training dataset size: 450\n",
      "Test dataset size: 50\n"
     ]
    }
   ],
   "source": [
    "# Define the split sizes\n",
    "eval_percent = 0.10\n",
    "num_eval = int(len(dataset) * eval_percent)\n",
    "num_train = len(dataset) - num_eval\n",
    "\n",
    "# Randomly split the dataset into training and evaluation datasets\n",
    "train_dataset, test_dataset = random_split(dataset, [num_train, num_eval])\n",
    "\n",
    "print(f\"Training dataset size: {len(train_dataset)}\")\n",
    "print(f\"Test dataset size: {len(test_dataset)}\")\n",
    "\n",
    "# Set batch size\n",
    "batch_size = 50\n",
    "\n",
    "# Create DataLoader for the training dataset\n",
    "train_loader = DataLoader(train_dataset, batch_size=batch_size, shuffle=True)\n",
    "\n",
    "# Create DataLoader for the evaluation dataset\n",
    "test_loader = DataLoader(test_dataset, batch_size=batch_size, shuffle=False)"
   ]
  },
  {
   "cell_type": "code",
   "execution_count": 5,
   "metadata": {},
   "outputs": [],
   "source": [
    "import os\n",
    "import torch\n",
    "\n",
    "def save_models(models, folder_path):\n",
    "    # Create the directory if it doesn't exist\n",
    "    if not os.path.exists(folder_path):\n",
    "        os.makedirs(folder_path)\n",
    "\n",
    "    # Save each model\n",
    "    for model in models:\n",
    "        model_name = type(model).__name__  # Get the class name of the model\n",
    "        file_path = os.path.join(folder_path, f\"{model_name}.pt\")\n",
    "        torch.save(model.state_dict(), file_path)\n",
    "\n",
    "    print(\"Models saved successfully.\")\n",
    "\n",
    "# Example usage:\n",
    "# save_models([model1, model2], \"/path/to/folder\")\n",
    "\n",
    "def load_models(model_objects, folder_path):\n",
    "    # Load the state dicts for each model\n",
    "    for model in model_objects:\n",
    "        model_name = type(model).__name__  # Get the class name of the model\n",
    "        file_path = os.path.join(folder_path, f\"{model_name}.pt\")\n",
    "        model.load_state_dict(torch.load(file_path))\n",
    "\n",
    "    print(\"Models loaded successfully.\")\n",
    "\n",
    "# Example usage:\n",
    "# load_models([model1, model2], \"/path/to/folder\")\n",
    "\n"
   ]
  },
  {
   "cell_type": "code",
   "execution_count": 6,
   "metadata": {},
   "outputs": [],
   "source": [
    "import torch\n",
    "import torch.nn as nn\n",
    "import torch.nn.functional as F\n",
    "\n",
    "class CustomConvNet(nn.Module):\n",
    "    def __init__(self, num_1d_layers=3, num_2d_layers=2):# num_channels=180):\n",
    "        super(CustomConvNet, self).__init__()\n",
    "        \n",
    "        # Define initial parameters for the 1D conv layers\n",
    "        initial_channels = 16  # Initial number of channels\n",
    "        self.shape_1d = 20\n",
    "        self.shape_2d = (18, 10)\n",
    "        \n",
    "        # 1D Convolutional Layers\n",
    "        self.conv1d_layers = nn.ModuleList()\n",
    "        in_channels = 1\n",
    "        for i in range(num_1d_layers - 1):\n",
    "            out_channels = initial_channels * (2 ** i)\n",
    "            self.conv1d_layers.append(nn.Sequential(\n",
    "                nn.Conv1d(in_channels, out_channels, kernel_size=3, stride=1, padding=1),\n",
    "                nn.BatchNorm1d(out_channels),\n",
    "                nn.ReLU(inplace=True),\n",
    "                nn.Dropout(0.1)  # Regularization\n",
    "            ))\n",
    "            in_channels = out_channels\n",
    "        \n",
    "        # Last 1D convolution to adjust the channel size exactly to num_channels\n",
    "        self.conv1d_layers.append(nn.Conv1d(in_channels, self.shape_2d[0] * self.shape_2d[1], \n",
    "                                            kernel_size=3, stride=1, padding=1))\n",
    "        #print(num_channels)\n",
    "        \n",
    "        # 2D Convolutional Layers\n",
    "        self.conv2d_layers = nn.ModuleList()\n",
    "        in_channels = self.shape_1d\n",
    "        for i in range(num_2d_layers):\n",
    "            out_channels = 32 if i < num_2d_layers - 1 else 1  # Final output channel set to 1\n",
    "            self.conv2d_layers.append(nn.Sequential(\n",
    "                nn.Conv2d(in_channels, out_channels, kernel_size=(3, 3), stride=1, padding=1),\n",
    "                nn.BatchNorm2d(out_channels),\n",
    "                nn.ReLU(inplace=True),\n",
    "                nn.Dropout(0.2)  # Regularization\n",
    "            ))\n",
    "            in_channels = out_channels\n",
    "\n",
    "    def forward(self, x):\n",
    "        x = x.unsqueeze(1)  # Add channel dimension (N, 1, L) where L is the sequence length\n",
    "\n",
    "        # Apply 1D convolutions\n",
    "        for layer in self.conv1d_layers:\n",
    "            x = layer(x)\n",
    "\n",
    "        # Reshape to 2D (N, C, 18, 10)\n",
    "        x = x.view(x.size(0), -1, 18, 10)  # -1 here will automatically adjust to num_channels\n",
    "        \n",
    "        # Apply 2D convolutions\n",
    "        for layer in self.conv2d_layers:\n",
    "            x = layer(x)\n",
    "\n",
    "        return x.squeeze(1)\n"
   ]
  },
  {
   "cell_type": "code",
   "execution_count": 7,
   "metadata": {},
   "outputs": [],
   "source": [
    "\n",
    "def train_model(model, optimizer, train_loader, losses, epochs=1000):\n",
    "    model.train()\n",
    "    losses_ = losses.setdefault('train',{})\n",
    "    \n",
    "    for epoch in range(epochs):\n",
    "        loss, metric = 0., 0.\n",
    "        for iter, (inputs, targets) in enumerate(train_loader):\n",
    "            \n",
    "            optimizer.zero_grad()\n",
    "            outputs = model(inputs)\n",
    "            loss = train_loss_func(outputs, targets)\n",
    "            loss.backward()\n",
    "            optimizer.step()\n",
    "\n",
    "            metric = test_eval_func(outputs.detach(), targets)\n",
    "\n",
    "            loss += loss.detach()\n",
    "            metric += metric.detach()\n",
    "            \n",
    "        loss /= (iter + 1)\n",
    "        metric /= (iter + 1)\n",
    "        \n",
    "        losses_.setdefault('loss', []).append(loss.detach())\n",
    "        losses_.setdefault('metric', []).append(metric.detach())\n",
    "        losses_.setdefault('epoch', []).append(epoch)\n",
    "\n",
    "        if (epoch+1) % 5 == 0:\n",
    "            print(f'TRAIN | Epoch {epoch+1}, Loss: {loss.item():.4f}, Metric: {metric.item():.4f}')\n",
    "            test(model, epoch, losses)\n",
    "\n",
    "def test(model, epoch, losses):\n",
    "    _ = model.eval()\n",
    "    losses_ = losses.setdefault('test',{})\n",
    "    \n",
    "    with torch.no_grad():\n",
    "        loss, metric = 0., 0.\n",
    "        for iter, (inputs, targets) in enumerate(test_loader):\n",
    "            outputs = model(inputs)\n",
    "            loss = train_loss_func(outputs.detach(), targets.detach()).detach()\n",
    "            metric = test_eval_func(outputs.detach(), targets.detach()).detach()\n",
    "            \n",
    "        loss /= (iter + 1)\n",
    "        metric /= (iter + 1)\n",
    "        losses_.setdefault('loss', []).append(loss)\n",
    "        losses_.setdefault('metric', []).append(metric)\n",
    "        losses_.setdefault('epoch', []).append(epoch)\n",
    "            \n",
    "    print(f'... TEST | Epoch {epoch+1}, Loss: {loss.item():.4f}, Metric: {metric.item():.4f}')\n"
   ]
  },
  {
   "cell_type": "code",
   "execution_count": 8,
   "metadata": {},
   "outputs": [],
   "source": [
    "class MAPELoss(torch.nn.Module):\n",
    "    def __init__(self):\n",
    "        super(MAPELoss, self).__init__()\n",
    "\n",
    "    def forward(self, y_true, y_pred):\n",
    "        epsilon = 1e-8\n",
    "        percentage_error = torch.abs((y_true - y_pred) / (torch.abs(y_true) + epsilon))\n",
    "        mape = torch.mean(percentage_error) * 100.0\n",
    "        return mape\n",
    "\n",
    "train_loss_func = nn.MSELoss()\n",
    "test_eval_func = MAPELoss()"
   ]
  },
  {
   "cell_type": "code",
   "execution_count": 9,
   "metadata": {},
   "outputs": [],
   "source": [
    "\n",
    "# Create the model\n",
    "model = CustomConvNet(num_1d_layers=3, num_2d_layers=2)\n",
    "\n",
    "if False: # test the model\n",
    "    #print(model)\n",
    "    # Creating a dummy input tensor of shape (N, L), where L=20\n",
    "    input_tensor = torch.randn(5, 20)  # 5 examples, each 1 x 20\n",
    "    # Forward pass\n",
    "    output = model(input_tensor)\n",
    "    print(\"Output shape:\", output.shape)\n"
   ]
  },
  {
   "cell_type": "code",
   "execution_count": 76,
   "metadata": {},
   "outputs": [
    {
     "name": "stdout",
     "output_type": "stream",
     "text": [
      "TRAIN | Epoch 5, Loss: 0.0397, Metric: 410726944.0000\n",
      "... TEST | Epoch 5, Loss: 0.1477, Metric: 1112320256.0000\n",
      "TRAIN | Epoch 10, Loss: 0.0188, Metric: 11.0236\n",
      "... TEST | Epoch 10, Loss: 0.0846, Metric: 49.3543\n",
      "TRAIN | Epoch 15, Loss: 0.0187, Metric: 11.2369\n",
      "... TEST | Epoch 15, Loss: 0.0842, Metric: 50.5873\n",
      "TRAIN | Epoch 20, Loss: 0.0186, Metric: 11.1766\n",
      "... TEST | Epoch 20, Loss: 0.0842, Metric: 50.4633\n",
      "TRAIN | Epoch 25, Loss: 0.0185, Metric: 11.1703\n",
      "... TEST | Epoch 25, Loss: 0.0841, Metric: 50.5310\n",
      "TRAIN | Epoch 30, Loss: 0.0183, Metric: 11.1016\n",
      "... TEST | Epoch 30, Loss: 0.0841, Metric: 50.4536\n",
      "TRAIN | Epoch 35, Loss: 0.0185, Metric: 11.0965\n",
      "... TEST | Epoch 35, Loss: 0.0841, Metric: 50.2991\n",
      "TRAIN | Epoch 40, Loss: 0.0183, Metric: 11.0601\n",
      "... TEST | Epoch 40, Loss: 0.0841, Metric: 50.3756\n",
      "TRAIN | Epoch 45, Loss: 0.0185, Metric: 11.1294\n",
      "... TEST | Epoch 45, Loss: 0.0841, Metric: 50.3412\n",
      "TRAIN | Epoch 50, Loss: 0.0184, Metric: 11.0720\n",
      "... TEST | Epoch 50, Loss: 0.0841, Metric: 50.2238\n",
      "TRAIN | Epoch 55, Loss: 0.0187, Metric: 11.1752\n",
      "... TEST | Epoch 55, Loss: 0.0841, Metric: 50.2449\n",
      "TRAIN | Epoch 60, Loss: 0.0183, Metric: 10.9871\n",
      "... TEST | Epoch 60, Loss: 0.0841, Metric: 50.2260\n",
      "TRAIN | Epoch 65, Loss: 0.0186, Metric: 11.2005\n",
      "... TEST | Epoch 65, Loss: 0.0841, Metric: 50.4366\n",
      "TRAIN | Epoch 70, Loss: 0.0184, Metric: 11.0505\n",
      "... TEST | Epoch 70, Loss: 0.0841, Metric: 50.2565\n",
      "TRAIN | Epoch 75, Loss: 0.0185, Metric: 11.0862\n",
      "... TEST | Epoch 75, Loss: 0.0841, Metric: 50.2743\n",
      "TRAIN | Epoch 80, Loss: 0.0185, Metric: 11.1342\n",
      "... TEST | Epoch 80, Loss: 0.0841, Metric: 50.4010\n",
      "TRAIN | Epoch 85, Loss: 0.0185, Metric: 11.0760\n",
      "... TEST | Epoch 85, Loss: 0.0842, Metric: 50.3539\n",
      "TRAIN | Epoch 90, Loss: 0.0181, Metric: 10.9759\n",
      "... TEST | Epoch 90, Loss: 0.0842, Metric: 50.3620\n"
     ]
    },
    {
     "ename": "KeyboardInterrupt",
     "evalue": "",
     "output_type": "error",
     "traceback": [
      "\u001b[0;31m---------------------------------------------------------------------------\u001b[0m",
      "\u001b[0;31mKeyboardInterrupt\u001b[0m                         Traceback (most recent call last)",
      "\u001b[0;32m/var/folders/0k/sjz1x0_n7_12_0wk4kxdkw9w0000gs/T/ipykernel_13241/3286463784.py\u001b[0m in \u001b[0;36m<module>\u001b[0;34m\u001b[0m\n\u001b[1;32m      5\u001b[0m \u001b[0;34m\u001b[0m\u001b[0m\n\u001b[1;32m      6\u001b[0m \u001b[0mlosses\u001b[0m \u001b[0;34m=\u001b[0m \u001b[0;34m{\u001b[0m\u001b[0;34m}\u001b[0m\u001b[0;34m\u001b[0m\u001b[0;34m\u001b[0m\u001b[0m\n\u001b[0;32m----> 7\u001b[0;31m \u001b[0mtrain_model\u001b[0m\u001b[0;34m(\u001b[0m\u001b[0mmodel\u001b[0m\u001b[0;34m,\u001b[0m \u001b[0moptimizer\u001b[0m\u001b[0;34m,\u001b[0m \u001b[0mtrain_loader\u001b[0m\u001b[0;34m,\u001b[0m \u001b[0mlosses\u001b[0m\u001b[0;34m,\u001b[0m  \u001b[0mepochs\u001b[0m\u001b[0;34m=\u001b[0m\u001b[0;36m100\u001b[0m\u001b[0;34m)\u001b[0m\u001b[0;34m\u001b[0m\u001b[0;34m\u001b[0m\u001b[0m\n\u001b[0m",
      "\u001b[0;32m/var/folders/0k/sjz1x0_n7_12_0wk4kxdkw9w0000gs/T/ipykernel_13241/648457649.py\u001b[0m in \u001b[0;36mtrain_model\u001b[0;34m(model, optimizer, train_loader, losses, epochs)\u001b[0m\n\u001b[1;32m     10\u001b[0m             \u001b[0moutputs\u001b[0m \u001b[0;34m=\u001b[0m \u001b[0mmodel\u001b[0m\u001b[0;34m(\u001b[0m\u001b[0minputs\u001b[0m\u001b[0;34m)\u001b[0m\u001b[0;34m\u001b[0m\u001b[0;34m\u001b[0m\u001b[0m\n\u001b[1;32m     11\u001b[0m             \u001b[0mloss\u001b[0m \u001b[0;34m=\u001b[0m \u001b[0mtrain_loss_func\u001b[0m\u001b[0;34m(\u001b[0m\u001b[0moutputs\u001b[0m\u001b[0;34m,\u001b[0m \u001b[0mtargets\u001b[0m\u001b[0;34m)\u001b[0m\u001b[0;34m\u001b[0m\u001b[0;34m\u001b[0m\u001b[0m\n\u001b[0;32m---> 12\u001b[0;31m             \u001b[0mloss\u001b[0m\u001b[0;34m.\u001b[0m\u001b[0mbackward\u001b[0m\u001b[0;34m(\u001b[0m\u001b[0;34m)\u001b[0m\u001b[0;34m\u001b[0m\u001b[0;34m\u001b[0m\u001b[0m\n\u001b[0m\u001b[1;32m     13\u001b[0m             \u001b[0moptimizer\u001b[0m\u001b[0;34m.\u001b[0m\u001b[0mstep\u001b[0m\u001b[0;34m(\u001b[0m\u001b[0;34m)\u001b[0m\u001b[0;34m\u001b[0m\u001b[0;34m\u001b[0m\u001b[0m\n\u001b[1;32m     14\u001b[0m \u001b[0;34m\u001b[0m\u001b[0m\n",
      "\u001b[0;32m~/opt/anaconda3/envs/kmmt_new_llm/lib/python3.8/site-packages/torch/_tensor.py\u001b[0m in \u001b[0;36mbackward\u001b[0;34m(self, gradient, retain_graph, create_graph, inputs)\u001b[0m\n\u001b[1;32m    485\u001b[0m                 \u001b[0minputs\u001b[0m\u001b[0;34m=\u001b[0m\u001b[0minputs\u001b[0m\u001b[0;34m,\u001b[0m\u001b[0;34m\u001b[0m\u001b[0;34m\u001b[0m\u001b[0m\n\u001b[1;32m    486\u001b[0m             )\n\u001b[0;32m--> 487\u001b[0;31m         torch.autograd.backward(\n\u001b[0m\u001b[1;32m    488\u001b[0m             \u001b[0mself\u001b[0m\u001b[0;34m,\u001b[0m \u001b[0mgradient\u001b[0m\u001b[0;34m,\u001b[0m \u001b[0mretain_graph\u001b[0m\u001b[0;34m,\u001b[0m \u001b[0mcreate_graph\u001b[0m\u001b[0;34m,\u001b[0m \u001b[0minputs\u001b[0m\u001b[0;34m=\u001b[0m\u001b[0minputs\u001b[0m\u001b[0;34m\u001b[0m\u001b[0;34m\u001b[0m\u001b[0m\n\u001b[1;32m    489\u001b[0m         )\n",
      "\u001b[0;32m~/opt/anaconda3/envs/kmmt_new_llm/lib/python3.8/site-packages/torch/autograd/__init__.py\u001b[0m in \u001b[0;36mbackward\u001b[0;34m(tensors, grad_tensors, retain_graph, create_graph, grad_variables, inputs)\u001b[0m\n\u001b[1;32m    198\u001b[0m     \u001b[0;31m# some Python versions print out the first line of a multi-line function\u001b[0m\u001b[0;34m\u001b[0m\u001b[0;34m\u001b[0m\u001b[0;34m\u001b[0m\u001b[0m\n\u001b[1;32m    199\u001b[0m     \u001b[0;31m# calls in the traceback and some print out the last line\u001b[0m\u001b[0;34m\u001b[0m\u001b[0;34m\u001b[0m\u001b[0;34m\u001b[0m\u001b[0m\n\u001b[0;32m--> 200\u001b[0;31m     Variable._execution_engine.run_backward(  # Calls into the C++ engine to run the backward pass\n\u001b[0m\u001b[1;32m    201\u001b[0m         \u001b[0mtensors\u001b[0m\u001b[0;34m,\u001b[0m \u001b[0mgrad_tensors_\u001b[0m\u001b[0;34m,\u001b[0m \u001b[0mretain_graph\u001b[0m\u001b[0;34m,\u001b[0m \u001b[0mcreate_graph\u001b[0m\u001b[0;34m,\u001b[0m \u001b[0minputs\u001b[0m\u001b[0;34m,\u001b[0m\u001b[0;34m\u001b[0m\u001b[0;34m\u001b[0m\u001b[0m\n\u001b[1;32m    202\u001b[0m         allow_unreachable=True, accumulate_grad=True)  # Calls into the C++ engine to run the backward pass\n",
      "\u001b[0;31mKeyboardInterrupt\u001b[0m: "
     ]
    }
   ],
   "source": [
    "# Train model\n",
    "\n",
    "learning_rate = 1e-3\n",
    "optimizer = torch.optim.Adam(model.parameters(), lr=learning_rate)\n",
    "\n",
    "losses = {}\n",
    "train_model(model, optimizer, train_loader, losses,  epochs=100)"
   ]
  },
  {
   "cell_type": "markdown",
   "metadata": {},
   "source": [
    "# save & load models"
   ]
  },
  {
   "cell_type": "code",
   "execution_count": 48,
   "metadata": {},
   "outputs": [
    {
     "name": "stdout",
     "output_type": "stream",
     "text": [
      "Models saved successfully.\n"
     ]
    }
   ],
   "source": [
    "save_models([model], \"model/\")"
   ]
  },
  {
   "cell_type": "code",
   "execution_count": 56,
   "metadata": {},
   "outputs": [
    {
     "name": "stdout",
     "output_type": "stream",
     "text": [
      "Models loaded successfully.\n"
     ]
    }
   ],
   "source": [
    "load_models([model], \"model/\")"
   ]
  },
  {
   "cell_type": "code",
   "execution_count": 77,
   "metadata": {},
   "outputs": [
    {
     "data": {
      "image/png": "[encoded data removed]",
      "text/plain": [
       "<Figure size 720x288 with 1 Axes>"
      ]
     },
     "metadata": {
      "needs_background": "light"
     },
     "output_type": "display_data"
    }
   ],
   "source": [
    "import matplotlib.pyplot as plt\n",
    "\n",
    "# Plotting the loss\n",
    "fig, ax = plt.subplots(figsize=(10,4))\n",
    "key='loss'\n",
    "ax.plot(losses['train']['epoch'], losses['train'][key], label='Train Loss', c='blue')\n",
    "ax.plot(losses['test']['epoch'], losses['test'][key], label='Test Loss', c='red')\n",
    "\n",
    "# Adding labels and title\n",
    "ax.set_xlabel('Epochs')\n",
    "ax.set_ylabel('Loss')\n",
    "ax.set_title('Training and Test Loss')\n",
    "\n",
    "# Adding legend\n",
    "ax.legend()\n",
    "\n",
    "# Displaying the plot\n",
    "plt.show()"
   ]
  },
  {
   "cell_type": "code",
   "execution_count": 88,
   "metadata": {},
   "outputs": [
    {
     "data": {
      "text/plain": [
       "array([[0.39468991, 0.63120069, 0.37002696, ..., 0.72070325, 0.96842099,\n",
       "        0.76158916],\n",
       "       [0.98445592, 0.25610965, 0.86644569, ..., 0.10642297, 0.65705033,\n",
       "        0.43757613],\n",
       "       [0.79350957, 0.08269097, 0.18564368, ..., 0.55926883, 0.96362363,\n",
       "        0.95634232],\n",
       "       ...,\n",
       "       [0.40557523, 0.44092847, 0.89259451, ..., 0.7395647 , 0.11419198,\n",
       "        0.37327312],\n",
       "       [0.47183875, 0.18615461, 0.11756549, ..., 0.40849668, 0.80500284,\n",
       "        0.93760056],\n",
       "       [0.76700434, 0.72977546, 0.39070351, ..., 0.17833471, 0.50860962,\n",
       "        0.8097387 ]])"
      ]
     },
     "execution_count": 88,
     "metadata": {},
     "output_type": "execute_result"
    }
   ],
   "source": [
    "fake_X = np.random.rand(5000,20)\n",
    "fake_da = np.random.rand(5000)\n",
    "\n",
    "ind = np.argsort(fake_da)\n",
    "fake_X_sorted\n"
   ]
  },
  {
   "cell_type": "code",
   "execution_count": 91,
   "metadata": {},
   "outputs": [],
   "source": [
    "fake_da_sorted_top10 = fake_da[ind][::-1][:10]"
   ]
  },
  {
   "cell_type": "code",
   "execution_count": 92,
   "metadata": {},
   "outputs": [
    {
     "data": {
      "text/plain": [
       "array([0.9995056 , 0.99910858, 0.99902321, 0.99902189, 0.99893417,\n",
       "       0.99815777, 0.99809755, 0.99765055, 0.99738832, 0.99737647])"
      ]
     },
     "execution_count": 92,
     "metadata": {},
     "output_type": "execute_result"
    }
   ],
   "source": [
    "fake_da_sorted_top10"
   ]
  },
  {
   "cell_type": "code",
   "execution_count": null,
   "metadata": {},
   "outputs": [],
   "source": []
  },
  {
   "cell_type": "code",
   "execution_count": 78,
   "metadata": {},
   "outputs": [
    {
     "name": "stdout",
     "output_type": "stream",
     "text": [
      "[0.99812832 0.98853303 0.97101326 0.96625965 0.95815628 0.94914299\n",
      " 0.94392882 0.94196707 0.93522763 0.93398512]\n"
     ]
    },
    {
     "data": {
      "image/png": "[encoded data removed]",
      "text/plain": [
       "<Figure size 864x432 with 2 Axes>"
      ]
     },
     "metadata": {
      "needs_background": "light"
     },
     "output_type": "display_data"
    }
   ],
   "source": [
    "import numpy as np\n",
    "import matplotlib.pyplot as plt\n",
    "\n",
    "def sort_and_show_data(data, objective, top_k=10):\n",
    "    # Sort data based on objective vector\n",
    "    sorted_indices = np.argsort(objective)[::-1]\n",
    "    sorted_data = data[sorted_indices][:top_k]\n",
    "    sorted_objective = objective[sorted_indices][:top_k]\n",
    "    # Plot sorted data\n",
    "    fig, (ax1, ax2) = plt.subplots(1, 2, figsize=(12, 6))\n",
    "\n",
    "    # Plot sorted data as image with flipped orientation\n",
    "    ax1.imshow(sorted_data[::-1], cmap='binary', aspect='auto', extent=[0, 20, 0, len(sorted_data)])\n",
    "    \n",
    "    # Set labels and ticks for ax1\n",
    "    ax1.set_xticks([])\n",
    "    ax1.set_yticks(np.arange(0, 11, 2))\n",
    "    ax1.set_yticklabels(np.arange(10, -1, -2))\n",
    "    ax1.set_ylabel('Sample Index')\n",
    "    ax1.set_xlabel('Feature Index')\n",
    "    ax1.grid(axis='y', linestyle='--')\n",
    "\n",
    "    print(sorted_objective)\n",
    "    # Plot circles representing the objective vector with flipped orientation\n",
    "    ax2.set_xlim(0, 10)\n",
    "    ax2.set_ylim(0, 10)\n",
    "    for i, val in enumerate(sorted_objective):\n",
    "        ax2.add_patch(plt.Circle((5, i + 0.5), val * 1, color='red', fill=False))\n",
    "\n",
    "    # Set labels and ticks for ax2\n",
    "    ax2.set_xticks(np.arange(1, 11))\n",
    "    ax2.set_yticks([])\n",
    "    ax2.set_xlabel('Sorted Objective Value')\n",
    "    ax2.set_aspect('equal')\n",
    "\n",
    "    plt.show()\n",
    "\n",
    "# Example usage:\n",
    "# Assuming you have data of shape (n, 20) and objective vector of shape (n, 1)\n",
    "n = 100  # Number of samples\n",
    "data = np.random.randint(0, 2, size=(n, 20))  # Example binary data\n",
    "objective = np.random.rand(n)  # Example objective vector\n",
    "sort_and_show_data(data, objective)\n"
   ]
  },
  {
   "cell_type": "code",
   "execution_count": null,
   "metadata": {},
   "outputs": [],
   "source": []
  },
  {
   "cell_type": "code",
   "execution_count": null,
   "metadata": {},
   "outputs": [],
   "source": []
  }
 ],
 "metadata": {
  "kernelspec": {
   "display_name": "Python 3 (ipykernel)",
   "language": "python",
   "name": "python3"
  },
  "language_info": {
   "codemirror_mode": {
    "name": "ipython",
    "version": 3
   },
   "file_extension": ".py",
   "mimetype": "text/x-python",
   "name": "python",
   "nbconvert_exporter": "python",
   "pygments_lexer": "ipython3",
   "version": "3.8.18"
  }
 },
 "nbformat": 4,
 "nbformat_minor": 4
}
